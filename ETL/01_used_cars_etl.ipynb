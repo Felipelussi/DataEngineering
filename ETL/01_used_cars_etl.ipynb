{
 "cells": [
  {
   "cell_type": "code",
   "execution_count": 15,
   "id": "24e06d82",
   "metadata": {},
   "outputs": [],
   "source": [
    "import pandas as pd\n",
    "import glob\n",
    "import xml.etree.ElementTree as ET\n",
    "from datetime import datetime\n"
   ]
  },
  {
   "cell_type": "code",
   "execution_count": 27,
   "id": "d1d375bc",
   "metadata": {},
   "outputs": [],
   "source": [
    "log_file = \"log_file.txt\"\n",
    "target_file = \"transformed_data.csv\"\n"
   ]
  },
  {
   "cell_type": "code",
   "execution_count": 16,
   "id": "d6d50ac8",
   "metadata": {},
   "outputs": [],
   "source": [
    "def extract_from_csv(data):\n",
    "    dataframe = pd.read_csv(data)\n",
    "    return dataframe\n",
    "\n",
    "def extract_from_json(data):\n",
    "    dataframe = pd.read_json(data, lines=True)\n",
    "    return dataframe\n",
    "\n",
    "def extract_from_xml(data):\n",
    "    dataframe = pd.DataFrame(columns=['car_model', 'year_of_manufacture', 'price', 'fuel'])\n",
    "    xml_data = ET.parse(data)\n",
    "    \n",
    "    rows = xml_data.getroot()\n",
    "   \n",
    "    \n",
    "    for row in rows:\n",
    "        price = float(row.find('price').text)\n",
    "        model = row.find('car_model').text\n",
    "        year = int(row.find('year_of_manufacture').text)\n",
    "        fuel = row.find('fuel').text\n",
    "        \n",
    "        car_dict = {\"car_model\": model, \"year_of_manufacture\": year, \"price\": price, \"fuel\": fuel}\n",
    "        \n",
    "        car_df = pd.DataFrame([car_dict])\n",
    "        \n",
    "        dataframe = pd.concat([dataframe, car_df], ignore_index=True)\n",
    "    \n",
    "    return dataframe\n",
    "    "
   ]
  },
  {
   "cell_type": "code",
   "execution_count": 23,
   "id": "9c2a3171",
   "metadata": {},
   "outputs": [],
   "source": [
    "\n",
    "def extract():\n",
    "    extracted_data = pd.DataFrame(columns=['car_model', 'year_of_manufacture', 'price', 'fuel'])\n",
    "    \n",
    "    for csv in glob.glob('*csv'):\n",
    "      extracted_data =  pd.concat([extracted_data, extract_from_csv(csv)], ignore_index=True)\n",
    "    \n",
    "    for json in glob.glob('*json'):\n",
    "      extracted_data = pd.concat([extracted_data, extract_from_json(json)], ignore_index=True)\n",
    "    \n",
    "    for xml in glob.glob('*xml'):\n",
    "      extracted_data = pd.concat([extracted_data, extract_from_xml(xml)], ignore_index=True)\n",
    "    \n",
    "    return extracted_data\n"
   ]
  },
  {
   "cell_type": "code",
   "execution_count": 26,
   "id": "f66d33f4",
   "metadata": {},
   "outputs": [],
   "source": [
    "def transform(data):\n",
    "    data['price'] = data.price.round(decimals=2)\n",
    "    return data"
   ]
  },
  {
   "cell_type": "code",
   "execution_count": 32,
   "id": "cf90d808",
   "metadata": {},
   "outputs": [],
   "source": [
    "def load(target_file, transformed_data):\n",
    "    transformed_data.to_csv(target_file)"
   ]
  },
  {
   "cell_type": "code",
   "execution_count": 33,
   "id": "3366c669",
   "metadata": {},
   "outputs": [],
   "source": [
    "def log_progress(message):\n",
    "    timestamp_format = '%Y-%h-%D-%H-%M-%S'\n",
    "    now = datetime.now()\n",
    "    timestamp = now.strftime(timestamp_format)\n",
    "    \n",
    "    with open(log_file, 'a') as f:\n",
    "        f.write(timestamp + ', ' + message + '\\n')"
   ]
  },
  {
   "cell_type": "code",
   "execution_count": null,
   "id": "948e756e",
   "metadata": {},
   "outputs": [],
   "source": [
    "log_progress('ETL job started')\n",
    "log_progress('Extract phase started')\n",
    "extracted_data = extract()\n",
    "log_progress('Extract phase ended')\n",
    "log_progress('Transform phase started')\n",
    "transformed_data = transform(extracted_data)\n",
    "log_progress('Transform phase ended')\n",
    "log_progress('Load phase started')\n",
    "load(target_file, transformed_data)\n",
    "log_progress('Load phase ended')\n",
    "\n",
    "\n",
    "\n"
   ]
  },
  {
   "cell_type": "code",
   "execution_count": null,
   "id": "03d9acf9",
   "metadata": {},
   "outputs": [],
   "source": []
  }
 ],
 "metadata": {
  "kernelspec": {
   "display_name": "Python 3 (ipykernel)",
   "language": "python",
   "name": "python3"
  },
  "language_info": {
   "codemirror_mode": {
    "name": "ipython",
    "version": 3
   },
   "file_extension": ".py",
   "mimetype": "text/x-python",
   "name": "python",
   "nbconvert_exporter": "python",
   "pygments_lexer": "ipython3",
   "version": "3.12.0"
  }
 },
 "nbformat": 4,
 "nbformat_minor": 5
}

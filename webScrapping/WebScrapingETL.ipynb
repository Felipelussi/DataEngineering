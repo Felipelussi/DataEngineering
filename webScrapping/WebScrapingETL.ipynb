{
 "cells": [
  {
   "cell_type": "code",
   "execution_count": 68,
   "id": "92ef1dc7",
   "metadata": {},
   "outputs": [],
   "source": [
    "import requests\n",
    "import sqlite3\n",
    "import pandas as pd\n",
    "from bs4 import BeautifulSoup"
   ]
  },
  {
   "cell_type": "code",
   "execution_count": 69,
   "id": "fcba0969",
   "metadata": {},
   "outputs": [],
   "source": [
    "url = 'https://web.archive.org/web/20230902185655/https://en.everybodywiki.com/100_Most_Highly-Ranked_Films'\n",
    "db_name = 'Movies.db'\n",
    "table_name = 'Top_50'\n",
    "csv_path = 'top_50_films.csv'\n",
    "df = pd.DataFrame(columns=[\"Film\",\"Year\", \"Roten Tomatoes\"])\n",
    "count = 0"
   ]
  },
  {
   "cell_type": "code",
   "execution_count": 70,
   "id": "f6f40a08",
   "metadata": {},
   "outputs": [],
   "source": [
    "html_page = requests.get(url).text"
   ]
  },
  {
   "cell_type": "code",
   "execution_count": 71,
   "id": "24cbdf34",
   "metadata": {},
   "outputs": [],
   "source": [
    "data = BeautifulSoup(html_page, 'html.parser')"
   ]
  },
  {
   "cell_type": "code",
   "execution_count": 72,
   "id": "405c869c",
   "metadata": {},
   "outputs": [],
   "source": [
    "tables = data.find_all('tbody')"
   ]
  },
  {
   "cell_type": "code",
   "execution_count": 73,
   "id": "d6f5adf1",
   "metadata": {},
   "outputs": [],
   "source": [
    "rows = tables[0].find_all('tr')"
   ]
  },
  {
   "cell_type": "code",
   "execution_count": 74,
   "id": "d640e6fb",
   "metadata": {},
   "outputs": [],
   "source": [
    "for row in rows:\n",
    "    if count < 25:\n",
    "        col = row.find_all('td')\n",
    "        if len(col) !=0:\n",
    "            data_dict = {\n",
    "                          \"Film\": col[1].contents[0],\n",
    "                        \"Year\": col[2].contents[0],\n",
    "                        \"Roten Tomatoes\": col[3].contents[0]}\n",
    "            df1 = pd.DataFrame(data_dict, index=[0])           \n",
    "            df = pd.concat([df, df1], ignore_index=True)\n",
    "            count += 1\n",
    "    else:\n",
    "         break"
   ]
  },
  {
   "cell_type": "code",
   "execution_count": 75,
   "id": "bbea4b12",
   "metadata": {},
   "outputs": [],
   "source": [
    "df.to_csv(csv_path)"
   ]
  },
  {
   "cell_type": "code",
   "execution_count": 78,
   "id": "51815db5",
   "metadata": {},
   "outputs": [],
   "source": [
    "conn = sqlite3.connect(db_name)"
   ]
  },
  {
   "cell_type": "code",
   "execution_count": 82,
   "id": "b20fd226",
   "metadata": {},
   "outputs": [
    {
     "data": {
      "text/plain": [
       "<sqlite3.Cursor at 0x1f9fc110940>"
      ]
     },
     "execution_count": 82,
     "metadata": {},
     "output_type": "execute_result"
    }
   ],
   "source": [
    "cursor = conn.cursor()\n",
    "\n",
    "cursor.execute('select * from Top_50 where Year >= 2000')"
   ]
  },
  {
   "cell_type": "code",
   "execution_count": 83,
   "id": "c36e2ffc",
   "metadata": {},
   "outputs": [
    {
     "name": "stdout",
     "output_type": "stream",
     "text": [
      "('Parasite', '2019', '6')\n",
      "('Lord of the Rings: The Fellowship of the Ring', '2001', 'unranked')\n",
      "('Avengers: Endgame', '2019', '7')\n"
     ]
    }
   ],
   "source": [
    "rows = cursor.fetchall()\n",
    "for row in rows:\n",
    "    print(row)"
   ]
  },
  {
   "cell_type": "code",
   "execution_count": 77,
   "id": "808571b5",
   "metadata": {},
   "outputs": [],
   "source": [
    "df.to_sql(table_name, conn, if_exists='replace', index=False)\n",
    "conn.close()"
   ]
  },
  {
   "cell_type": "code",
   "execution_count": null,
   "id": "af70e2e7",
   "metadata": {},
   "outputs": [],
   "source": []
  }
 ],
 "metadata": {
  "kernelspec": {
   "display_name": "Python 3 (ipykernel)",
   "language": "python",
   "name": "python3"
  },
  "language_info": {
   "codemirror_mode": {
    "name": "ipython",
    "version": 3
   },
   "file_extension": ".py",
   "mimetype": "text/x-python",
   "name": "python",
   "nbconvert_exporter": "python",
   "pygments_lexer": "ipython3",
   "version": "3.12.0"
  },
  "varInspector": {
   "cols": {
    "lenName": 16,
    "lenType": 16,
    "lenVar": 40
   },
   "kernels_config": {
    "python": {
     "delete_cmd_postfix": "",
     "delete_cmd_prefix": "del ",
     "library": "var_list.py",
     "varRefreshCmd": "print(var_dic_list())"
    },
    "r": {
     "delete_cmd_postfix": ") ",
     "delete_cmd_prefix": "rm(",
     "library": "var_list.r",
     "varRefreshCmd": "cat(var_dic_list()) "
    }
   },
   "types_to_exclude": [
    "module",
    "function",
    "builtin_function_or_method",
    "instance",
    "_Feature"
   ],
   "window_display": false
  }
 },
 "nbformat": 4,
 "nbformat_minor": 5
}
